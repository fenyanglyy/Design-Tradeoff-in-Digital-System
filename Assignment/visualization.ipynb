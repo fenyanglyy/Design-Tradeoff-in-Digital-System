{
 "cells": [
  {
   "cell_type": "code",
   "execution_count": 1,
   "metadata": {},
   "outputs": [
    {
     "name": "stdout",
     "output_type": "stream",
     "text": [
      "Current Working Directory: /Users/snowball/ECE1783-Assignment/Assignment\n"
     ]
    }
   ],
   "source": [
    "from Encoder import Encoder\n",
    "from Decoder import Decoder\n",
    "from PIL import Image\n",
    "from matplotlib import patches\n",
    "import matplotlib.pyplot as plt\n",
    "from GlobalConfig import Config\n",
    "import os\n",
    "import numpy as np\n",
    "\n",
    "# 获取当前工作目录\n",
    "current_directory = os.getcwd()\n",
    "print(\"Current Working Directory:\", current_directory)\n",
    "\n",
    "# 设置工作目录（如果需要）\n",
    "# Please change to your own directory\n",
    "os.chdir('/Users/snowball/ECE1783-Assignment')\n",
    "\n",
    "def P_I_frame_visualization(image_path: str, block_data: list[list], save_path: str):\n",
    "    # block_data is like [(x, y, block_width, block_height), .....]\n",
    "    # Load the original image\n",
    "    image = Image.open(image_path)\n",
    "    fig, ax = plt.subplots(1)\n",
    "    ax.imshow(image, cmap=\"gray\")\n",
    "\n",
    "    # Get the block size data for specific frame\n",
    "    for [x, y, block_width, block_height] in block_data:\n",
    "        # Create a Rectangle patch\n",
    "        rect = patches.Rectangle((y,x), block_width, block_height, linewidth=1, edgecolor='black', facecolor='none')\n",
    "        # Add the patch to the Axes\n",
    "        ax.add_patch(rect)\n",
    "    \n",
    "    plt.axis(\"off\")\n",
    "    plt.savefig(save_path, bbox_inches='tight', pad_inches=0)\n",
    "    plt.close(fig)\n",
    "\n",
    "def reference_frame_visualization(image_path: str, ref_frame_data: list[list], save_path: str):\n",
    "    # block_data is like [(x, y, block_size, reference_frame_index), .....]\n",
    "    # Load the original image\n",
    "    image = Image.open(image_path)\n",
    "    fig, ax = plt.subplots(1)\n",
    "    ax.imshow(image, cmap=\"gray\")\n",
    "\n",
    "    # Define colors for different reference frames\n",
    "    colors = ['red', 'green', 'blue', 'cyan', 'magenta', 'yellow', 'black', 'white']\n",
    "\n",
    "    # Overlay reference frame indices on the image\n",
    "    for [x, y, block_size, reference_frame_index] in ref_frame_data:\n",
    "        # Choose a color based on the reference frame index\n",
    "        color = colors[reference_frame_index % len(colors)]\n",
    "        # Create a Rectangle patch\n",
    "        rect = patches.Rectangle((y, x), block_size, block_size, linewidth=1, edgecolor='none', facecolor=color, alpha=0.3)\n",
    "        # Add the patch to the Axes\n",
    "        ax.add_patch(rect)\n",
    "\n",
    "    plt.axis(\"off\")\n",
    "    plt.savefig(save_path, bbox_inches='tight', pad_inches=0)\n",
    "    plt.close(fig)\n",
    "\n",
    "def motion_vector_visualization(image_path: str, P_frame_data: list[list], save_path: str, FMEE=False):\n",
    "    # block_data is like [(x, y, block_size, reference_frame_index), .....]\n",
    "    # Load the original image\n",
    "    image = Image.open(image_path)\n",
    "    fig, ax = plt.subplots()\n",
    "    ax.imshow(image, cmap='gray', interpolation='none')\n",
    "\n",
    "    for x, y, mv_x, mv_y, block_size in P_frame_data:\n",
    "        start_x, start_y = np.flipud([x+block_size//2, y+block_size//2])\n",
    "        dx, dy = np.flipud([mv_x, mv_y])\n",
    "        if FMEE:\n",
    "            dx //= 2\n",
    "            dy //= 2\n",
    "        ax.arrow(start_x, start_y, dx, dy, head_length=2, head_width=4, fc='black', ec='black', length_includes_head=True, linewidth=0.5)\n",
    "    \n",
    "    plt.axis('off')\n",
    "    plt.savefig(save_path, bbox_inches='tight', pad_inches=0)\n",
    "    plt.close(fig)"
   ]
  },
  {
   "cell_type": "markdown",
   "metadata": {},
   "source": [
    "# Section 1"
   ]
  },
  {
   "cell_type": "markdown",
   "metadata": {},
   "source": [
    "### Case 1: \n",
    "##### Multiple Reference Frames = 1\n",
    "##### Variable Block Size = False\n",
    "##### Fractional Motion Estimation = False\n",
    "##### Fast Motion Estimation = False"
   ]
  },
  {
   "cell_type": "code",
   "execution_count": 2,
   "metadata": {},
   "outputs": [
    {
     "name": "stdout",
     "output_type": "stream",
     "text": [
      "Frame0:            Type: I,            PSNR: 36.21,            SSIM: 0.93,            MAE: 14.92,            Per_Frame_Time: 0.28,            Bitrates: 16.65,            Split_counts: 0\n",
      "Frame1:            Type: P,            PSNR: 36.22,            SSIM: 0.93,            MAE: 4.35,            Per_Frame_Time: 0.4,            Bitrates: 12.37,            Split_counts: 0\n",
      "Frame2:            Type: P,            PSNR: 36.11,            SSIM: 0.93,            MAE: 4.68,            Per_Frame_Time: 0.41,            Bitrates: 12.27,            Split_counts: 0\n",
      "Frame3:            Type: P,            PSNR: 36.01,            SSIM: 0.92,            MAE: 4.39,            Per_Frame_Time: 0.43,            Bitrates: 11.0,            Split_counts: 0\n",
      "Frame4:            Type: P,            PSNR: 35.94,            SSIM: 0.92,            MAE: 4.5,            Per_Frame_Time: 0.44,            Bitrates: 12.73,            Split_counts: 0\n",
      "Frame5:            Type: P,            PSNR: 35.77,            SSIM: 0.92,            MAE: 4.29,            Per_Frame_Time: 0.43,            Bitrates: 12.5,            Split_counts: 0\n",
      "Frame6:            Type: P,            PSNR: 35.73,            SSIM: 0.92,            MAE: 3.94,            Per_Frame_Time: 0.4,            Bitrates: 9.31,            Split_counts: 0\n",
      "Frame7:            Type: P,            PSNR: 35.64,            SSIM: 0.92,            MAE: 4.16,            Per_Frame_Time: 0.41,            Bitrates: 13.3,            Split_counts: 0\n",
      "Frame8:            Type: I,            PSNR: 36.21,            SSIM: 0.93,            MAE: 14.9,            Per_Frame_Time: 0.27,            Bitrates: 16.66,            Split_counts: 0\n",
      "Frame9:            Type: P,            PSNR: 36.19,            SSIM: 0.93,            MAE: 3.95,            Per_Frame_Time: 0.41,            Bitrates: 11.58,            Split_counts: 0\n",
      "1115216\n",
      "10\n"
     ]
    }
   ],
   "source": [
    "config = Config()\n",
    "\n",
    "# configuration\n",
    "config.nRefFrames = 1\n",
    "config.VBSEnable = False\n",
    "config.FMEEnable = False\n",
    "config.FastME = False\n",
    "\n",
    "# initialization\n",
    "encoder = Encoder()\n",
    "psnr, _, time_spent, _ = encoder.encode('Videos/foreman_420p.yuv')\n",
    "decoder = Decoder(config)\n",
    "frame_visualize_data = decoder.decode()\n",
    "print(len(frame_visualize_data))\n",
    "\n",
    "# P-I frame visualization\n",
    "image_path = \"Assignment/decoder_ws/png_sequence/reconstructed_frame\"+str(4)+\".png\"\n",
    "save_path = \"Assignment/P_I_frame_visualization/Section1-Case1/frame\"+str(4)+\".png\"\n",
    "P_I_frame_visualization(image_path, frame_visualize_data[4][1], save_path)\n",
    "\n",
    "# Reference frame visualization\n",
    "save_path = \"Assignment/reference_frame_visualization/Section1-Case1/frame\"+str(4)+\".png\"\n",
    "reference_frame_visualization(image_path, frame_visualize_data[4][0], save_path)\n",
    "\n",
    "# Motion vector visualization\n",
    "save_path = \"Assignment/motion_vector_visualization/Section1-Case1/frame\"+str(4)+\".png\"\n",
    "motion_vector_visualization(image_path, frame_visualize_data[4][2], save_path, config.FMEEnable)"
   ]
  },
  {
   "cell_type": "markdown",
   "metadata": {},
   "source": [
    "### Case 2: \n",
    "##### Multiple Reference Frames = 1\n",
    "##### Variable Block Size = True\n",
    "##### Fractional Motion Estimation = False\n",
    "##### Fast Motion Estimation = False"
   ]
  },
  {
   "cell_type": "code",
   "execution_count": 3,
   "metadata": {},
   "outputs": [
    {
     "name": "stdout",
     "output_type": "stream",
     "text": [
      "Frame0:            Type: I,            PSNR: 38.27,            SSIM: 0.95,            MAE: 3.41,            Per_Frame_Time: 0.69,            Bitrates: 21.6,            Split_counts: 282\n",
      "Frame1:            Type: P,            PSNR: 37.43,            SSIM: 0.94,            MAE: 1.8,            Per_Frame_Time: 1.42,            Bitrates: 13.3,            Split_counts: 141\n",
      "Frame2:            Type: P,            PSNR: 37.22,            SSIM: 0.94,            MAE: 2.04,            Per_Frame_Time: 1.4,            Bitrates: 13.91,            Split_counts: 137\n",
      "Frame3:            Type: P,            PSNR: 36.96,            SSIM: 0.94,            MAE: 2.26,            Per_Frame_Time: 1.41,            Bitrates: 11.78,            Split_counts: 98\n",
      "Frame4:            Type: P,            PSNR: 36.86,            SSIM: 0.94,            MAE: 2.28,            Per_Frame_Time: 1.41,            Bitrates: 13.58,            Split_counts: 106\n",
      "Frame5:            Type: P,            PSNR: 36.65,            SSIM: 0.93,            MAE: 2.14,            Per_Frame_Time: 1.39,            Bitrates: 13.74,            Split_counts: 109\n",
      "Frame6:            Type: P,            PSNR: 36.49,            SSIM: 0.93,            MAE: 2.44,            Per_Frame_Time: 1.38,            Bitrates: 9.29,            Split_counts: 63\n",
      "Frame7:            Type: P,            PSNR: 36.48,            SSIM: 0.93,            MAE: 2.31,            Per_Frame_Time: 1.4,            Bitrates: 14.21,            Split_counts: 90\n",
      "Frame8:            Type: I,            PSNR: 38.41,            SSIM: 0.95,            MAE: 3.46,            Per_Frame_Time: 0.68,            Bitrates: 22.03,            Split_counts: 283\n",
      "Frame9:            Type: P,            PSNR: 37.55,            SSIM: 0.95,            MAE: 1.71,            Per_Frame_Time: 1.39,            Bitrates: 11.41,            Split_counts: 123\n",
      "1323072\n",
      "10\n"
     ]
    }
   ],
   "source": [
    "config = Config()\n",
    "\n",
    "# configuration\n",
    "config.nRefFrames = 1\n",
    "config.VBSEnable = True\n",
    "config.FMEEnable = False\n",
    "config.FastME = False\n",
    "\n",
    "# initialization\n",
    "encoder = Encoder()\n",
    "psnr, _, time_spent, _ = encoder.encode('Videos/foreman_420p.yuv')\n",
    "decoder = Decoder(config)\n",
    "frame_visualize_data = decoder.decode()\n",
    "print(len(frame_visualize_data))\n",
    "\n",
    "# P-I frame visualization\n",
    "image_path = \"Assignment/decoder_ws/png_sequence/reconstructed_frame\"+str(4)+\".png\"\n",
    "save_path = \"Assignment/P_I_frame_visualization/Section1-Case2/frame\"+str(4)+\".png\"\n",
    "P_I_frame_visualization(image_path, frame_visualize_data[4][1], save_path)\n",
    "\n",
    "# Reference frame visualization\n",
    "save_path = \"Assignment/reference_frame_visualization/Section1-Case2/frame\"+str(4)+\".png\"\n",
    "reference_frame_visualization(image_path, frame_visualize_data[4][0], save_path)\n",
    "\n",
    "# Motion vector visualization\n",
    "save_path = \"Assignment/motion_vector_visualization/Section1-Case2/frame\"+str(4)+\".png\"\n",
    "motion_vector_visualization(image_path, frame_visualize_data[4][2], save_path, config.FMEEnable)"
   ]
  },
  {
   "cell_type": "markdown",
   "metadata": {},
   "source": [
    "### Case 3: \n",
    "##### Multiple Reference Frames = 1\n",
    "##### Variable Block Size = False\n",
    "##### Fractional Motion Estimation = True\n",
    "##### Fast Motion Estimation = False"
   ]
  },
  {
   "cell_type": "code",
   "execution_count": 4,
   "metadata": {},
   "outputs": [
    {
     "name": "stdout",
     "output_type": "stream",
     "text": [
      "Frame0:            Type: I,            PSNR: 36.21,            SSIM: 0.93,            MAE: 14.92,            Per_Frame_Time: 0.28,            Bitrates: 16.65,            Split_counts: 0\n",
      "Frame1:            Type: P,            PSNR: 36.51,            SSIM: 0.93,            MAE: 4.0,            Per_Frame_Time: 0.8,            Bitrates: 10.25,            Split_counts: 0\n",
      "Frame2:            Type: P,            PSNR: 36.52,            SSIM: 0.93,            MAE: 4.22,            Per_Frame_Time: 0.81,            Bitrates: 9.61,            Split_counts: 0\n",
      "Frame3:            Type: P,            PSNR: 36.55,            SSIM: 0.93,            MAE: 4.07,            Per_Frame_Time: 0.83,            Bitrates: 9.38,            Split_counts: 0\n",
      "Frame4:            Type: P,            PSNR: 36.51,            SSIM: 0.93,            MAE: 4.08,            Per_Frame_Time: 0.84,            Bitrates: 10.06,            Split_counts: 0\n",
      "Frame5:            Type: P,            PSNR: 36.48,            SSIM: 0.93,            MAE: 3.8,            Per_Frame_Time: 0.85,            Bitrates: 10.03,            Split_counts: 0\n",
      "Frame6:            Type: P,            PSNR: 36.49,            SSIM: 0.93,            MAE: 3.58,            Per_Frame_Time: 0.82,            Bitrates: 8.15,            Split_counts: 0\n",
      "Frame7:            Type: P,            PSNR: 36.51,            SSIM: 0.93,            MAE: 3.54,            Per_Frame_Time: 0.82,            Bitrates: 9.98,            Split_counts: 0\n",
      "Frame8:            Type: I,            PSNR: 36.21,            SSIM: 0.93,            MAE: 14.9,            Per_Frame_Time: 0.28,            Bitrates: 16.66,            Split_counts: 0\n",
      "Frame9:            Type: P,            PSNR: 36.39,            SSIM: 0.93,            MAE: 3.69,            Per_Frame_Time: 0.82,            Bitrates: 10.43,            Split_counts: 0\n",
      "974536\n",
      "10\n"
     ]
    }
   ],
   "source": [
    "config = Config()\n",
    "\n",
    "# configuration\n",
    "config.nRefFrames = 1\n",
    "config.VBSEnable = False\n",
    "config.FMEEnable = True\n",
    "config.FastME = False\n",
    "\n",
    "# initialization\n",
    "encoder = Encoder()\n",
    "psnr, _, time_spent, _ = encoder.encode('Videos/foreman_420p.yuv')\n",
    "decoder = Decoder(config)\n",
    "frame_visualize_data = decoder.decode()\n",
    "print(len(frame_visualize_data))\n",
    "\n",
    "# P-I frame visualization\n",
    "image_path = \"Assignment/decoder_ws/png_sequence/reconstructed_frame\"+str(4)+\".png\"\n",
    "save_path = \"Assignment/P_I_frame_visualization/Section1-Case3/frame\"+str(4)+\".png\"\n",
    "P_I_frame_visualization(image_path, frame_visualize_data[4][1], save_path)\n",
    "\n",
    "# Reference frame visualization\n",
    "save_path = \"Assignment/reference_frame_visualization/Section1-Case3/frame\"+str(4)+\".png\"\n",
    "reference_frame_visualization(image_path, frame_visualize_data[4][0], save_path)\n",
    "\n",
    "# Motion vector visualization\n",
    "save_path = \"Assignment/motion_vector_visualization/Section1-Case3/frame\"+str(4)+\".png\"\n",
    "motion_vector_visualization(image_path, frame_visualize_data[4][2], save_path, config.FMEEnable)"
   ]
  },
  {
   "cell_type": "markdown",
   "metadata": {},
   "source": [
    "### Case 4: \n",
    "##### Multiple Reference Frames = 1\n",
    "##### Variable Block Size = False\n",
    "##### Fractional Motion Estimation = False\n",
    "##### Fast Motion Estimation = True"
   ]
  },
  {
   "cell_type": "code",
   "execution_count": 5,
   "metadata": {},
   "outputs": [
    {
     "name": "stdout",
     "output_type": "stream",
     "text": [
      "Frame0:            Type: I,            PSNR: 36.21,            SSIM: 0.93,            MAE: 14.92,            Per_Frame_Time: 0.28,            Bitrates: 16.65,            Split_counts: 0\n",
      "Frame1:            Type: P,            PSNR: 36.23,            SSIM: 0.93,            MAE: 4.47,            Per_Frame_Time: 0.28,            Bitrates: 12.52,            Split_counts: 0\n",
      "Frame2:            Type: P,            PSNR: 36.14,            SSIM: 0.93,            MAE: 4.93,            Per_Frame_Time: 0.28,            Bitrates: 12.36,            Split_counts: 0\n",
      "Frame3:            Type: P,            PSNR: 36.06,            SSIM: 0.92,            MAE: 4.59,            Per_Frame_Time: 0.27,            Bitrates: 11.17,            Split_counts: 0\n",
      "Frame4:            Type: P,            PSNR: 35.97,            SSIM: 0.92,            MAE: 4.55,            Per_Frame_Time: 0.27,            Bitrates: 12.63,            Split_counts: 0\n",
      "Frame5:            Type: P,            PSNR: 35.78,            SSIM: 0.92,            MAE: 4.49,            Per_Frame_Time: 0.27,            Bitrates: 12.51,            Split_counts: 0\n",
      "Frame6:            Type: P,            PSNR: 35.71,            SSIM: 0.92,            MAE: 4.22,            Per_Frame_Time: 0.27,            Bitrates: 9.51,            Split_counts: 0\n",
      "Frame7:            Type: P,            PSNR: 35.62,            SSIM: 0.92,            MAE: 4.36,            Per_Frame_Time: 0.28,            Bitrates: 13.81,            Split_counts: 0\n",
      "Frame8:            Type: I,            PSNR: 36.21,            SSIM: 0.93,            MAE: 14.9,            Per_Frame_Time: 0.27,            Bitrates: 16.66,            Split_counts: 0\n",
      "Frame9:            Type: P,            PSNR: 36.19,            SSIM: 0.93,            MAE: 4.1,            Per_Frame_Time: 0.28,            Bitrates: 11.82,            Split_counts: 0\n",
      "1125744\n",
      "10\n"
     ]
    }
   ],
   "source": [
    "config = Config()\n",
    "\n",
    "# configuration\n",
    "config.nRefFrames = 1\n",
    "config.VBSEnable = False\n",
    "config.FMEEnable = False\n",
    "config.FastME = True\n",
    "\n",
    "# initialization\n",
    "encoder = Encoder()\n",
    "psnr, _, time_spent, _ = encoder.encode('Videos/foreman_420p.yuv')\n",
    "decoder = Decoder(config)\n",
    "frame_visualize_data = decoder.decode()\n",
    "print(len(frame_visualize_data))\n",
    "\n",
    "# P-I frame visualization\n",
    "image_path = \"Assignment/decoder_ws/png_sequence/reconstructed_frame\"+str(4)+\".png\"\n",
    "save_path = \"Assignment/P_I_frame_visualization/Section1-Case4/frame\"+str(4)+\".png\"\n",
    "P_I_frame_visualization(image_path, frame_visualize_data[4][1], save_path)\n",
    "\n",
    "# Reference frame visualization\n",
    "save_path = \"Assignment/reference_frame_visualization/Section1-Case4/frame\"+str(4)+\".png\"\n",
    "reference_frame_visualization(image_path, frame_visualize_data[4][0], save_path)\n",
    "\n",
    "# Motion vector visualization\n",
    "save_path = \"Assignment/motion_vector_visualization/Section1-Case4/frame\"+str(4)+\".png\"\n",
    "motion_vector_visualization(image_path, frame_visualize_data[4][2], save_path, config.FMEEnable)"
   ]
  },
  {
   "cell_type": "markdown",
   "metadata": {},
   "source": [
    "### Case 5: \n",
    "##### Multiple Reference Frames = 4\n",
    "##### Variable Block Size = False\n",
    "##### Fractional Motion Estimation = False\n",
    "##### Fast Motion Estimation = False"
   ]
  },
  {
   "cell_type": "code",
   "execution_count": 6,
   "metadata": {},
   "outputs": [
    {
     "name": "stdout",
     "output_type": "stream",
     "text": [
      "Frame0:            Type: I,            PSNR: 36.21,            SSIM: 0.93,            MAE: 14.92,            Per_Frame_Time: 0.28,            Bitrates: 16.65,            Split_counts: 0\n",
      "Frame1:            Type: P,            PSNR: 36.22,            SSIM: 0.93,            MAE: 4.35,            Per_Frame_Time: 0.41,            Bitrates: 12.37,            Split_counts: 0\n",
      "Frame2:            Type: P,            PSNR: 36.14,            SSIM: 0.93,            MAE: 4.58,            Per_Frame_Time: 0.57,            Bitrates: 11.82,            Split_counts: 0\n",
      "Frame3:            Type: P,            PSNR: 36.06,            SSIM: 0.92,            MAE: 4.4,            Per_Frame_Time: 0.7,            Bitrates: 11.29,            Split_counts: 0\n",
      "Frame4:            Type: P,            PSNR: 36.01,            SSIM: 0.92,            MAE: 4.38,            Per_Frame_Time: 0.87,            Bitrates: 11.69,            Split_counts: 0\n",
      "Frame5:            Type: P,            PSNR: 35.88,            SSIM: 0.92,            MAE: 4.22,            Per_Frame_Time: 0.86,            Bitrates: 12.21,            Split_counts: 0\n",
      "Frame6:            Type: P,            PSNR: 35.83,            SSIM: 0.92,            MAE: 3.96,            Per_Frame_Time: 0.85,            Bitrates: 10.31,            Split_counts: 0\n",
      "Frame7:            Type: P,            PSNR: 35.82,            SSIM: 0.92,            MAE: 3.93,            Per_Frame_Time: 0.85,            Bitrates: 11.43,            Split_counts: 0\n",
      "Frame8:            Type: I,            PSNR: 36.21,            SSIM: 0.93,            MAE: 14.9,            Per_Frame_Time: 0.27,            Bitrates: 16.66,            Split_counts: 0\n",
      "Frame9:            Type: P,            PSNR: 36.19,            SSIM: 0.93,            MAE: 3.95,            Per_Frame_Time: 0.4,            Bitrates: 11.58,            Split_counts: 0\n",
      "1095800\n",
      "10\n"
     ]
    }
   ],
   "source": [
    "config = Config()\n",
    "\n",
    "# configuration\n",
    "config.nRefFrames = 4\n",
    "config.VBSEnable = False\n",
    "config.FMEEnable = False\n",
    "config.FastME = False\n",
    "\n",
    "# initialization\n",
    "encoder = Encoder()\n",
    "psnr, _, time_spent, _ = encoder.encode('Videos/foreman_420p.yuv')\n",
    "decoder = Decoder(config)\n",
    "frame_visualize_data = decoder.decode()\n",
    "print(len(frame_visualize_data))\n",
    "\n",
    "# P-I frame visualization\n",
    "image_path = \"Assignment/decoder_ws/png_sequence/reconstructed_frame\"+str(4)+\".png\"\n",
    "save_path = \"Assignment/P_I_frame_visualization/Section1-Case5/frame\"+str(4)+\".png\"\n",
    "P_I_frame_visualization(image_path, frame_visualize_data[4][1], save_path)\n",
    "\n",
    "# Reference frame visualization\n",
    "save_path = \"Assignment/reference_frame_visualization/Section1-Case5/frame\"+str(4)+\".png\"\n",
    "reference_frame_visualization(image_path, frame_visualize_data[4][0], save_path)\n",
    "\n",
    "# Motion vector visualization\n",
    "save_path = \"Assignment/motion_vector_visualization/Section1-Case5/frame\"+str(4)+\".png\"\n",
    "motion_vector_visualization(image_path, frame_visualize_data[4][2], save_path, config.FMEEnable)"
   ]
  },
  {
   "cell_type": "markdown",
   "metadata": {},
   "source": [
    "### Case 6: \n",
    "##### Multiple Reference Frames = 4\n",
    "##### Variable Block Size = True\n",
    "##### Fractional Motion Estimation = True\n",
    "##### Fast Motion Estimation = True"
   ]
  },
  {
   "cell_type": "code",
   "execution_count": 7,
   "metadata": {},
   "outputs": [
    {
     "name": "stdout",
     "output_type": "stream",
     "text": [
      "Frame0:            Type: I,            PSNR: 38.27,            SSIM: 0.95,            MAE: 3.41,            Per_Frame_Time: 0.7,            Bitrates: 21.6,            Split_counts: 282\n",
      "Frame1:            Type: P,            PSNR: 37.83,            SSIM: 0.95,            MAE: 1.92,            Per_Frame_Time: 0.95,            Bitrates: 11.61,            Split_counts: 134\n",
      "Frame2:            Type: P,            PSNR: 37.77,            SSIM: 0.95,            MAE: 2.02,            Per_Frame_Time: 1.27,            Bitrates: 11.7,            Split_counts: 136\n",
      "Frame3:            Type: P,            PSNR: 37.74,            SSIM: 0.95,            MAE: 2.22,            Per_Frame_Time: 1.56,            Bitrates: 10.71,            Split_counts: 113\n",
      "Frame4:            Type: P,            PSNR: 37.77,            SSIM: 0.95,            MAE: 1.98,            Per_Frame_Time: 1.86,            Bitrates: 11.62,            Split_counts: 119\n",
      "Frame5:            Type: P,            PSNR: 37.84,            SSIM: 0.95,            MAE: 1.84,            Per_Frame_Time: 1.85,            Bitrates: 11.99,            Split_counts: 132\n",
      "Frame6:            Type: P,            PSNR: 37.83,            SSIM: 0.95,            MAE: 1.95,            Per_Frame_Time: 1.85,            Bitrates: 9.75,            Split_counts: 102\n",
      "Frame7:            Type: P,            PSNR: 37.78,            SSIM: 0.95,            MAE: 1.83,            Per_Frame_Time: 1.85,            Bitrates: 10.34,            Split_counts: 103\n",
      "Frame8:            Type: I,            PSNR: 38.41,            SSIM: 0.95,            MAE: 3.46,            Per_Frame_Time: 0.68,            Bitrates: 22.03,            Split_counts: 283\n",
      "Frame9:            Type: P,            PSNR: 37.66,            SSIM: 0.95,            MAE: 1.78,            Per_Frame_Time: 0.94,            Bitrates: 10.9,            Split_counts: 116\n",
      "1223992\n",
      "10\n"
     ]
    }
   ],
   "source": [
    "config = Config()\n",
    "\n",
    "# configuration\n",
    "config.nRefFrames = 4\n",
    "config.VBSEnable = True\n",
    "config.FMEEnable = True\n",
    "config.FastME = True\n",
    "\n",
    "# initialization\n",
    "encoder = Encoder()\n",
    "psnr, _, time_spent, _ = encoder.encode('Videos/foreman_420p.yuv')\n",
    "decoder = Decoder(config)\n",
    "frame_visualize_data = decoder.decode()\n",
    "print(len(frame_visualize_data))\n",
    "\n",
    "# P-I frame visualization\n",
    "image_path = \"Assignment/decoder_ws/png_sequence/reconstructed_frame\"+str(4)+\".png\"\n",
    "save_path = \"Assignment/P_I_frame_visualization/Section1-Case6/frame\"+str(4)+\".png\"\n",
    "P_I_frame_visualization(image_path, frame_visualize_data[4][1], save_path)\n",
    "\n",
    "# Reference frame visualization\n",
    "save_path = \"Assignment/reference_frame_visualization/Section1-Case6/frame\"+str(4)+\".png\"\n",
    "reference_frame_visualization(image_path, frame_visualize_data[4][0], save_path)\n",
    "\n",
    "# Motion vector visualization\n",
    "save_path = \"Assignment/motion_vector_visualization/Section1-Case6/frame\"+str(4)+\".png\"\n",
    "motion_vector_visualization(image_path, frame_visualize_data[4][2], save_path, config.FMEEnable)"
   ]
  },
  {
   "cell_type": "markdown",
   "metadata": {},
   "source": [
    "# Section 2"
   ]
  },
  {
   "cell_type": "markdown",
   "metadata": {},
   "source": [
    "### Case 1: \n",
    "##### Multiple Reference Frames = 1\n",
    "##### Variable Block Size = False\n",
    "##### Fractional Motion Estimation = False\n",
    "##### Fast Motion Estimation = False"
   ]
  },
  {
   "cell_type": "code",
   "execution_count": 8,
   "metadata": {},
   "outputs": [
    {
     "name": "stdout",
     "output_type": "stream",
     "text": [
      "Frame0:            Type: I,            PSNR: 36.21,            SSIM: 0.93,            MAE: 14.92,            Per_Frame_Time: 0.28,            Bitrates: 16.65,            Split_counts: 0\n",
      "Frame1:            Type: P,            PSNR: 36.22,            SSIM: 0.93,            MAE: 4.35,            Per_Frame_Time: 0.4,            Bitrates: 12.37,            Split_counts: 0\n",
      "Frame2:            Type: P,            PSNR: 36.11,            SSIM: 0.93,            MAE: 4.68,            Per_Frame_Time: 0.4,            Bitrates: 12.27,            Split_counts: 0\n",
      "Frame3:            Type: P,            PSNR: 36.01,            SSIM: 0.92,            MAE: 4.39,            Per_Frame_Time: 0.39,            Bitrates: 11.0,            Split_counts: 0\n",
      "Frame4:            Type: P,            PSNR: 35.94,            SSIM: 0.92,            MAE: 4.5,            Per_Frame_Time: 0.4,            Bitrates: 12.73,            Split_counts: 0\n",
      "Frame5:            Type: P,            PSNR: 35.77,            SSIM: 0.92,            MAE: 4.29,            Per_Frame_Time: 0.4,            Bitrates: 12.5,            Split_counts: 0\n",
      "Frame6:            Type: P,            PSNR: 35.73,            SSIM: 0.92,            MAE: 3.94,            Per_Frame_Time: 0.39,            Bitrates: 9.31,            Split_counts: 0\n",
      "Frame7:            Type: P,            PSNR: 35.64,            SSIM: 0.92,            MAE: 4.16,            Per_Frame_Time: 0.4,            Bitrates: 13.3,            Split_counts: 0\n",
      "Frame8:            Type: I,            PSNR: 36.21,            SSIM: 0.93,            MAE: 14.9,            Per_Frame_Time: 0.27,            Bitrates: 16.66,            Split_counts: 0\n",
      "Frame9:            Type: P,            PSNR: 36.19,            SSIM: 0.93,            MAE: 3.95,            Per_Frame_Time: 0.4,            Bitrates: 11.58,            Split_counts: 0\n",
      "1115216\n",
      "10\n"
     ]
    }
   ],
   "source": [
    "config = Config()\n",
    "\n",
    "# configuration\n",
    "config.nRefFrames = 1\n",
    "config.VBSEnable = False\n",
    "config.FMEEnable = False\n",
    "config.FastME = False\n",
    "\n",
    "# initialization\n",
    "encoder = Encoder()\n",
    "psnr, _, time_spent, _ = encoder.encode('Videos/foreman_420p.yuv')\n",
    "decoder = Decoder(config)\n",
    "frame_visualize_data = decoder.decode()\n",
    "print(len(frame_visualize_data))\n",
    "\n",
    "\n",
    "for i in range(1, 5):\n",
    "    # P-I frame visualization\n",
    "    image_path = \"Assignment/decoder_ws/png_sequence/reconstructed_frame\"+str(i)+\".png\"\n",
    "    save_path = \"Assignment/P_I_frame_visualization/Section2-Case1/frame\"+str(i)+\".png\"\n",
    "    P_I_frame_visualization(image_path, frame_visualize_data[i][1], save_path)\n",
    "\n",
    "    # Reference frame visualization\n",
    "    save_path = \"Assignment/reference_frame_visualization/Section2-Case1/frame\"+str(i)+\".png\"\n",
    "    reference_frame_visualization(image_path, frame_visualize_data[i][0], save_path)\n",
    "\n",
    "    # Motion vector visualization\n",
    "    save_path = \"Assignment/motion_vector_visualization/Section2-Case1/frame\"+str(i)+\".png\"\n",
    "    motion_vector_visualization(image_path, frame_visualize_data[i][2], save_path, config.FMEEnable)"
   ]
  },
  {
   "cell_type": "markdown",
   "metadata": {},
   "source": [
    "### Case 2: \n",
    "##### Multiple Reference Frames = 2\n",
    "##### Variable Block Size = False\n",
    "##### Fractional Motion Estimation = False\n",
    "##### Fast Motion Estimation = False"
   ]
  },
  {
   "cell_type": "code",
   "execution_count": 9,
   "metadata": {},
   "outputs": [
    {
     "name": "stdout",
     "output_type": "stream",
     "text": [
      "Frame0:            Type: I,            PSNR: 36.21,            SSIM: 0.93,            MAE: 14.92,            Per_Frame_Time: 0.28,            Bitrates: 16.65,            Split_counts: 0\n",
      "Frame1:            Type: P,            PSNR: 36.22,            SSIM: 0.93,            MAE: 4.35,            Per_Frame_Time: 0.4,            Bitrates: 12.37,            Split_counts: 0\n",
      "Frame2:            Type: P,            PSNR: 36.14,            SSIM: 0.93,            MAE: 4.58,            Per_Frame_Time: 0.55,            Bitrates: 11.82,            Split_counts: 0\n",
      "Frame3:            Type: P,            PSNR: 36.04,            SSIM: 0.92,            MAE: 4.4,            Per_Frame_Time: 0.54,            Bitrates: 11.25,            Split_counts: 0\n",
      "Frame4:            Type: P,            PSNR: 35.96,            SSIM: 0.92,            MAE: 4.47,            Per_Frame_Time: 0.55,            Bitrates: 12.55,            Split_counts: 0\n",
      "Frame5:            Type: P,            PSNR: 35.85,            SSIM: 0.92,            MAE: 4.27,            Per_Frame_Time: 0.55,            Bitrates: 12.55,            Split_counts: 0\n",
      "Frame6:            Type: P,            PSNR: 35.78,            SSIM: 0.92,            MAE: 3.95,            Per_Frame_Time: 0.54,            Bitrates: 10.13,            Split_counts: 0\n",
      "Frame7:            Type: P,            PSNR: 35.73,            SSIM: 0.92,            MAE: 4.11,            Per_Frame_Time: 0.55,            Bitrates: 13.19,            Split_counts: 0\n",
      "Frame8:            Type: I,            PSNR: 36.21,            SSIM: 0.93,            MAE: 14.9,            Per_Frame_Time: 0.27,            Bitrates: 16.66,            Split_counts: 0\n",
      "Frame9:            Type: P,            PSNR: 36.19,            SSIM: 0.93,            MAE: 3.95,            Per_Frame_Time: 0.4,            Bitrates: 11.58,            Split_counts: 0\n",
      "1118360\n",
      "10\n"
     ]
    }
   ],
   "source": [
    "config = Config()\n",
    "\n",
    "# configuration\n",
    "config.nRefFrames = 2\n",
    "config.VBSEnable = False\n",
    "config.FMEEnable = False\n",
    "config.FastME = False\n",
    "\n",
    "# initialization\n",
    "encoder = Encoder()\n",
    "psnr, _, time_spent, _ = encoder.encode('Videos/foreman_420p.yuv')\n",
    "decoder = Decoder(config)\n",
    "frame_visualize_data = decoder.decode()\n",
    "print(len(frame_visualize_data))\n",
    "\n",
    "\n",
    "for i in range(1, 5):\n",
    "    # P-I frame visualization\n",
    "    image_path = \"Assignment/decoder_ws/png_sequence/reconstructed_frame\"+str(i)+\".png\"\n",
    "    save_path = \"Assignment/P_I_frame_visualization/Section2-Case2/frame\"+str(i)+\".png\"\n",
    "    P_I_frame_visualization(image_path, frame_visualize_data[i][1], save_path)\n",
    "\n",
    "    # Reference frame visualization\n",
    "    save_path = \"Assignment/reference_frame_visualization/Section2-Case2/frame\"+str(i)+\".png\"\n",
    "    reference_frame_visualization(image_path, frame_visualize_data[i][0], save_path)\n",
    "\n",
    "    # Motion vector visualization\n",
    "    save_path = \"Assignment/motion_vector_visualization/Section2-Case2/frame\"+str(i)+\".png\"\n",
    "    motion_vector_visualization(image_path, frame_visualize_data[i][2], save_path, config.FMEEnable)"
   ]
  },
  {
   "cell_type": "markdown",
   "metadata": {},
   "source": [
    "### Case 3: \n",
    "##### Multiple Reference Frames = 3\n",
    "##### Variable Block Size = False\n",
    "##### Fractional Motion Estimation = False\n",
    "##### Fast Motion Estimation = False"
   ]
  },
  {
   "cell_type": "code",
   "execution_count": 10,
   "metadata": {},
   "outputs": [
    {
     "name": "stdout",
     "output_type": "stream",
     "text": [
      "Frame0:            Type: I,            PSNR: 36.21,            SSIM: 0.93,            MAE: 14.92,            Per_Frame_Time: 0.29,            Bitrates: 16.65,            Split_counts: 0\n",
      "Frame1:            Type: P,            PSNR: 36.22,            SSIM: 0.93,            MAE: 4.35,            Per_Frame_Time: 0.41,            Bitrates: 12.37,            Split_counts: 0\n",
      "Frame2:            Type: P,            PSNR: 36.14,            SSIM: 0.93,            MAE: 4.58,            Per_Frame_Time: 0.57,            Bitrates: 11.82,            Split_counts: 0\n",
      "Frame3:            Type: P,            PSNR: 36.06,            SSIM: 0.92,            MAE: 4.4,            Per_Frame_Time: 0.74,            Bitrates: 11.29,            Split_counts: 0\n",
      "Frame4:            Type: P,            PSNR: 36.01,            SSIM: 0.92,            MAE: 4.38,            Per_Frame_Time: 0.71,            Bitrates: 11.6,            Split_counts: 0\n",
      "Frame5:            Type: P,            PSNR: 35.87,            SSIM: 0.92,            MAE: 4.24,            Per_Frame_Time: 0.72,            Bitrates: 12.29,            Split_counts: 0\n",
      "Frame6:            Type: P,            PSNR: 35.82,            SSIM: 0.92,            MAE: 3.97,            Per_Frame_Time: 0.7,            Bitrates: 10.17,            Split_counts: 0\n",
      "Frame7:            Type: P,            PSNR: 35.75,            SSIM: 0.92,            MAE: 4.0,            Per_Frame_Time: 0.72,            Bitrates: 11.92,            Split_counts: 0\n",
      "Frame8:            Type: I,            PSNR: 36.21,            SSIM: 0.93,            MAE: 14.9,            Per_Frame_Time: 0.28,            Bitrates: 16.66,            Split_counts: 0\n",
      "Frame9:            Type: P,            PSNR: 36.19,            SSIM: 0.93,            MAE: 3.95,            Per_Frame_Time: 0.42,            Bitrates: 11.58,            Split_counts: 0\n",
      "1098768\n",
      "10\n"
     ]
    }
   ],
   "source": [
    "config = Config()\n",
    "\n",
    "# configuration\n",
    "config.nRefFrames = 3\n",
    "config.VBSEnable = False\n",
    "config.FMEEnable = False\n",
    "config.FastME = False\n",
    "\n",
    "# initialization\n",
    "encoder = Encoder()\n",
    "psnr, _, time_spent, _ = encoder.encode('Videos/foreman_420p.yuv')\n",
    "decoder = Decoder(config)\n",
    "frame_visualize_data = decoder.decode()\n",
    "print(len(frame_visualize_data))\n",
    "\n",
    "\n",
    "for i in range(1, 5):\n",
    "    # P-I frame visualization\n",
    "    image_path = \"Assignment/decoder_ws/png_sequence/reconstructed_frame\"+str(i)+\".png\"\n",
    "    save_path = \"Assignment/P_I_frame_visualization/Section2-Case3/frame\"+str(i)+\".png\"\n",
    "    P_I_frame_visualization(image_path, frame_visualize_data[i][1], save_path)\n",
    "\n",
    "    # Reference frame visualization\n",
    "    save_path = \"Assignment/reference_frame_visualization/Section2-Case3/frame\"+str(i)+\".png\"\n",
    "    reference_frame_visualization(image_path, frame_visualize_data[i][0], save_path)\n",
    "\n",
    "    # Motion vector visualization\n",
    "    save_path = \"Assignment/motion_vector_visualization/Section2-Case3/frame\"+str(i)+\".png\"\n",
    "    motion_vector_visualization(image_path, frame_visualize_data[i][2], save_path, config.FMEEnable)"
   ]
  },
  {
   "cell_type": "markdown",
   "metadata": {},
   "source": [
    "### Case 4: \n",
    "##### Multiple Reference Frames = 4\n",
    "##### Variable Block Size = False\n",
    "##### Fractional Motion Estimation = False\n",
    "##### Fast Motion Estimation = False"
   ]
  },
  {
   "cell_type": "code",
   "execution_count": 11,
   "metadata": {},
   "outputs": [
    {
     "name": "stdout",
     "output_type": "stream",
     "text": [
      "Frame0:            Type: I,            PSNR: 36.21,            SSIM: 0.93,            MAE: 14.92,            Per_Frame_Time: 0.3,            Bitrates: 16.65,            Split_counts: 0\n",
      "Frame1:            Type: P,            PSNR: 36.22,            SSIM: 0.93,            MAE: 4.35,            Per_Frame_Time: 0.41,            Bitrates: 12.37,            Split_counts: 0\n",
      "Frame2:            Type: P,            PSNR: 36.14,            SSIM: 0.93,            MAE: 4.58,            Per_Frame_Time: 0.56,            Bitrates: 11.82,            Split_counts: 0\n",
      "Frame3:            Type: P,            PSNR: 36.06,            SSIM: 0.92,            MAE: 4.4,            Per_Frame_Time: 0.71,            Bitrates: 11.29,            Split_counts: 0\n",
      "Frame4:            Type: P,            PSNR: 36.01,            SSIM: 0.92,            MAE: 4.38,            Per_Frame_Time: 0.85,            Bitrates: 11.69,            Split_counts: 0\n",
      "Frame5:            Type: P,            PSNR: 35.88,            SSIM: 0.92,            MAE: 4.22,            Per_Frame_Time: 0.86,            Bitrates: 12.21,            Split_counts: 0\n",
      "Frame6:            Type: P,            PSNR: 35.83,            SSIM: 0.92,            MAE: 3.96,            Per_Frame_Time: 0.86,            Bitrates: 10.31,            Split_counts: 0\n",
      "Frame7:            Type: P,            PSNR: 35.82,            SSIM: 0.92,            MAE: 3.93,            Per_Frame_Time: 0.86,            Bitrates: 11.43,            Split_counts: 0\n",
      "Frame8:            Type: I,            PSNR: 36.21,            SSIM: 0.93,            MAE: 14.9,            Per_Frame_Time: 0.27,            Bitrates: 16.66,            Split_counts: 0\n",
      "Frame9:            Type: P,            PSNR: 36.19,            SSIM: 0.93,            MAE: 3.95,            Per_Frame_Time: 0.41,            Bitrates: 11.58,            Split_counts: 0\n",
      "1095800\n",
      "10\n"
     ]
    }
   ],
   "source": [
    "config = Config()\n",
    "\n",
    "# configuration\n",
    "config.nRefFrames = 4\n",
    "config.VBSEnable = False\n",
    "config.FMEEnable = False\n",
    "config.FastME = False\n",
    "\n",
    "# initialization\n",
    "encoder = Encoder()\n",
    "psnr, _, time_spent, _ = encoder.encode('Videos/foreman_420p.yuv')\n",
    "decoder = Decoder(config)\n",
    "frame_visualize_data = decoder.decode()\n",
    "print(len(frame_visualize_data))\n",
    "\n",
    "\n",
    "for i in range(1, 5):\n",
    "    # P-I frame visualization\n",
    "    image_path = \"Assignment/decoder_ws/png_sequence/reconstructed_frame\"+str(i)+\".png\"\n",
    "    save_path = \"Assignment/P_I_frame_visualization/Section2-Case4/frame\"+str(i)+\".png\"\n",
    "    P_I_frame_visualization(image_path, frame_visualize_data[i][1], save_path)\n",
    "\n",
    "    # Reference frame visualization\n",
    "    save_path = \"Assignment/reference_frame_visualization/Section2-Case4/frame\"+str(i)+\".png\"\n",
    "    reference_frame_visualization(image_path, frame_visualize_data[i][0], save_path)\n",
    "\n",
    "    # Motion vector visualization\n",
    "    save_path = \"Assignment/motion_vector_visualization/Section2-Case4/frame\"+str(i)+\".png\"\n",
    "    motion_vector_visualization(image_path, frame_visualize_data[i][2], save_path, config.FMEEnable)"
   ]
  },
  {
   "cell_type": "markdown",
   "metadata": {},
   "source": [
    "# Section 3"
   ]
  },
  {
   "cell_type": "markdown",
   "metadata": {},
   "source": [
    "### Case 1: \n",
    "##### Multiple Reference Frames = 1\n",
    "##### Variable Block Size = True\n",
    "##### Fractional Motion Estimation = False\n",
    "##### Fast Motion Estimation = False\n",
    "##### QP = 2"
   ]
  },
  {
   "cell_type": "code",
   "execution_count": 28,
   "metadata": {},
   "outputs": [
    {
     "name": "stdout",
     "output_type": "stream",
     "text": [
      "Frame0:            Type: I,            PSNR: 45.55,            SSIM: 0.99,            MAE: 2.84,            Per_Frame_Time: 0.81,            Bitrates: 42.42,            Split_counts: 324\n",
      "Frame1:            Type: P,            PSNR: 45.31,            SSIM: 0.99,            MAE: 0.96,            Per_Frame_Time: 1.51,            Bitrates: 39.53,            Split_counts: 307\n",
      "Frame2:            Type: P,            PSNR: 44.86,            SSIM: 0.99,            MAE: 1.12,            Per_Frame_Time: 1.58,            Bitrates: 37.93,            Split_counts: 271\n",
      "Frame3:            Type: P,            PSNR: 44.5,            SSIM: 0.98,            MAE: 1.14,            Per_Frame_Time: 1.48,            Bitrates: 35.11,            Split_counts: 231\n",
      "Frame4:            Type: P,            PSNR: 44.68,            SSIM: 0.98,            MAE: 1.06,            Per_Frame_Time: 1.55,            Bitrates: 39.33,            Split_counts: 277\n",
      "Frame5:            Type: P,            PSNR: 44.46,            SSIM: 0.98,            MAE: 1.0,            Per_Frame_Time: 1.5,            Bitrates: 38.14,            Split_counts: 270\n",
      "Frame6:            Type: P,            PSNR: 43.66,            SSIM: 0.98,            MAE: 1.21,            Per_Frame_Time: 1.48,            Bitrates: 28.27,            Split_counts: 140\n",
      "Frame7:            Type: P,            PSNR: 44.32,            SSIM: 0.98,            MAE: 0.96,            Per_Frame_Time: 1.51,            Bitrates: 41.5,            Split_counts: 281\n",
      "Frame8:            Type: I,            PSNR: 45.49,            SSIM: 0.99,            MAE: 2.83,            Per_Frame_Time: 0.78,            Bitrates: 42.93,            Split_counts: 330\n",
      "Frame9:            Type: P,            PSNR: 44.79,            SSIM: 0.99,            MAE: 0.89,            Per_Frame_Time: 1.5,            Bitrates: 37.07,            Split_counts: 263\n",
      "3328192\n",
      "10\n"
     ]
    }
   ],
   "source": [
    "config = Config()\n",
    "\n",
    "# configuration\n",
    "config.nRefFrames = 1\n",
    "config.VBSEnable = True\n",
    "config.FMEEnable = False\n",
    "config.FastME = False\n",
    "config.QP = 2\n",
    "\n",
    "# initialization\n",
    "encoder = Encoder()\n",
    "psnr, _, time_spent, _ = encoder.encode('Videos/foreman_420p.yuv')\n",
    "decoder = Decoder(config)\n",
    "frame_visualize_data = decoder.decode()\n",
    "print(len(frame_visualize_data))\n",
    "\n",
    "# P-I frame visualization\n",
    "image_path = \"Assignment/decoder_ws/png_sequence/reconstructed_frame\"+str(4)+\".png\"\n",
    "save_path = \"Assignment/P_I_frame_visualization/Section3-Case1/frame\"+str(4)+\".png\"\n",
    "P_I_frame_visualization(image_path, frame_visualize_data[4][1], save_path)\n",
    "\n",
    "# Reference frame visualization\n",
    "save_path = \"Assignment/reference_frame_visualization/Section3-Case1/frame\"+str(4)+\".png\"\n",
    "reference_frame_visualization(image_path, frame_visualize_data[4][0], save_path)\n",
    "\n",
    "# Motion vector visualization\n",
    "save_path = \"Assignment/motion_vector_visualization/Section3-Case1/frame\"+str(4)+\".png\"\n",
    "motion_vector_visualization(image_path, frame_visualize_data[4][2], save_path, config.FMEEnable)\n",
    "\n",
    "# P-I frame visualization\n",
    "image_path = \"Assignment/decoder_ws/png_sequence/reconstructed_frame\"+str(0)+\".png\"\n",
    "save_path = \"Assignment/P_I_frame_visualization/Section3-Case1/frame\"+str(0)+\".png\"\n",
    "P_I_frame_visualization(image_path, frame_visualize_data[0][1], save_path)\n",
    "\n",
    "# Reference frame visualization\n",
    "save_path = \"Assignment/reference_frame_visualization/Section3-Case1/frame\"+str(0)+\".png\"\n",
    "reference_frame_visualization(image_path, frame_visualize_data[0][0], save_path)\n",
    "\n",
    "# Motion vector visualization\n",
    "save_path = \"Assignment/motion_vector_visualization/Section3-Case1/frame\"+str(0)+\".png\"\n",
    "motion_vector_visualization(image_path, frame_visualize_data[0][2], save_path, config.FMEEnable)"
   ]
  },
  {
   "cell_type": "markdown",
   "metadata": {},
   "source": [
    "### Case 2: \n",
    "##### Multiple Reference Frames = 1\n",
    "##### Variable Block Size = True\n",
    "##### Fractional Motion Estimation = False\n",
    "##### Fast Motion Estimation = False\n",
    "##### QP = 3"
   ]
  },
  {
   "cell_type": "code",
   "execution_count": 29,
   "metadata": {},
   "outputs": [
    {
     "name": "stdout",
     "output_type": "stream",
     "text": [
      "Frame0:            Type: I,            PSNR: 41.87,            SSIM: 0.98,            MAE: 3.14,            Per_Frame_Time: 0.74,            Bitrates: 31.37,            Split_counts: 296\n",
      "Frame1:            Type: P,            PSNR: 40.96,            SSIM: 0.97,            MAE: 1.36,            Per_Frame_Time: 1.44,            Bitrates: 24.87,            Split_counts: 195\n",
      "Frame2:            Type: P,            PSNR: 40.78,            SSIM: 0.97,            MAE: 1.55,            Per_Frame_Time: 1.43,            Bitrates: 24.4,            Split_counts: 183\n",
      "Frame3:            Type: P,            PSNR: 40.33,            SSIM: 0.97,            MAE: 1.76,            Per_Frame_Time: 1.42,            Bitrates: 20.99,            Split_counts: 129\n",
      "Frame4:            Type: P,            PSNR: 40.48,            SSIM: 0.97,            MAE: 1.56,            Per_Frame_Time: 1.44,            Bitrates: 24.92,            Split_counts: 174\n",
      "Frame5:            Type: P,            PSNR: 40.2,            SSIM: 0.97,            MAE: 1.47,            Per_Frame_Time: 1.43,            Bitrates: 24.23,            Split_counts: 171\n",
      "Frame6:            Type: P,            PSNR: 39.89,            SSIM: 0.96,            MAE: 1.78,            Per_Frame_Time: 1.4,            Bitrates: 16.66,            Split_counts: 83\n",
      "Frame7:            Type: P,            PSNR: 39.96,            SSIM: 0.96,            MAE: 1.56,            Per_Frame_Time: 1.45,            Bitrates: 25.57,            Split_counts: 152\n",
      "Frame8:            Type: I,            PSNR: 41.89,            SSIM: 0.98,            MAE: 3.21,            Per_Frame_Time: 0.74,            Bitrates: 31.86,            Split_counts: 300\n",
      "Frame9:            Type: P,            PSNR: 40.81,            SSIM: 0.97,            MAE: 1.31,            Per_Frame_Time: 1.44,            Bitrates: 22.15,            Split_counts: 160\n",
      "2179624\n",
      "10\n"
     ]
    }
   ],
   "source": [
    "config = Config()\n",
    "\n",
    "# configuration\n",
    "config.nRefFrames = 1\n",
    "config.VBSEnable = True\n",
    "config.FMEEnable = False\n",
    "config.FastME = False\n",
    "config.QP = 3\n",
    "\n",
    "# initialization\n",
    "encoder = Encoder()\n",
    "psnr, _, time_spent, _ = encoder.encode('Videos/foreman_420p.yuv')\n",
    "decoder = Decoder(config)\n",
    "frame_visualize_data = decoder.decode()\n",
    "print(len(frame_visualize_data))\n",
    "\n",
    "# P-I frame visualization\n",
    "image_path = \"Assignment/decoder_ws/png_sequence/reconstructed_frame\"+str(4)+\".png\"\n",
    "save_path = \"Assignment/P_I_frame_visualization/Section3-Case2/frame\"+str(4)+\".png\"\n",
    "P_I_frame_visualization(image_path, frame_visualize_data[4][1], save_path)\n",
    "\n",
    "# Reference frame visualization\n",
    "save_path = \"Assignment/reference_frame_visualization/Section3-Case2/frame\"+str(4)+\".png\"\n",
    "reference_frame_visualization(image_path, frame_visualize_data[4][0], save_path)\n",
    "\n",
    "# Motion vector visualization\n",
    "save_path = \"Assignment/motion_vector_visualization/Section3-Case2/frame\"+str(4)+\".png\"\n",
    "motion_vector_visualization(image_path, frame_visualize_data[4][2], save_path, config.FMEEnable)\n",
    "# P-I frame visualization\n",
    "\n",
    "image_path = \"Assignment/decoder_ws/png_sequence/reconstructed_frame\"+str(0)+\".png\"\n",
    "save_path = \"Assignment/P_I_frame_visualization/Section3-Case2/frame\"+str(0)+\".png\"\n",
    "P_I_frame_visualization(image_path, frame_visualize_data[0][1], save_path)\n",
    "\n",
    "# Reference frame visualization\n",
    "save_path = \"Assignment/reference_frame_visualization/Section3-Case2/frame\"+str(0)+\".png\"\n",
    "reference_frame_visualization(image_path, frame_visualize_data[0][0], save_path)\n",
    "\n",
    "# Motion vector visualization\n",
    "save_path = \"Assignment/motion_vector_visualization/Section3-Case2/frame\"+str(0)+\".png\"\n",
    "motion_vector_visualization(image_path, frame_visualize_data[0][2], save_path, config.FMEEnable)"
   ]
  },
  {
   "cell_type": "markdown",
   "metadata": {},
   "source": [
    "### Case 3: \n",
    "##### Multiple Reference Frames = 1\n",
    "##### Variable Block Size = True\n",
    "##### Fractional Motion Estimation = False\n",
    "##### Fast Motion Estimation = False\n",
    "##### QP = 4"
   ]
  },
  {
   "cell_type": "code",
   "execution_count": 30,
   "metadata": {},
   "outputs": [
    {
     "name": "stdout",
     "output_type": "stream",
     "text": [
      "Frame0:            Type: I,            PSNR: 38.27,            SSIM: 0.95,            MAE: 3.41,            Per_Frame_Time: 0.68,            Bitrates: 21.6,            Split_counts: 282\n",
      "Frame1:            Type: P,            PSNR: 37.43,            SSIM: 0.94,            MAE: 1.8,            Per_Frame_Time: 1.38,            Bitrates: 13.3,            Split_counts: 141\n",
      "Frame2:            Type: P,            PSNR: 37.22,            SSIM: 0.94,            MAE: 2.04,            Per_Frame_Time: 1.39,            Bitrates: 13.91,            Split_counts: 137\n",
      "Frame3:            Type: P,            PSNR: 36.96,            SSIM: 0.94,            MAE: 2.26,            Per_Frame_Time: 1.38,            Bitrates: 11.78,            Split_counts: 98\n",
      "Frame4:            Type: P,            PSNR: 36.86,            SSIM: 0.94,            MAE: 2.28,            Per_Frame_Time: 1.38,            Bitrates: 13.58,            Split_counts: 106\n",
      "Frame5:            Type: P,            PSNR: 36.65,            SSIM: 0.93,            MAE: 2.14,            Per_Frame_Time: 1.38,            Bitrates: 13.74,            Split_counts: 109\n",
      "Frame6:            Type: P,            PSNR: 36.49,            SSIM: 0.93,            MAE: 2.44,            Per_Frame_Time: 1.36,            Bitrates: 9.29,            Split_counts: 63\n",
      "Frame7:            Type: P,            PSNR: 36.48,            SSIM: 0.93,            MAE: 2.31,            Per_Frame_Time: 1.39,            Bitrates: 14.21,            Split_counts: 90\n",
      "Frame8:            Type: I,            PSNR: 38.41,            SSIM: 0.95,            MAE: 3.46,            Per_Frame_Time: 0.71,            Bitrates: 22.03,            Split_counts: 283\n",
      "Frame9:            Type: P,            PSNR: 37.55,            SSIM: 0.95,            MAE: 1.71,            Per_Frame_Time: 1.4,            Bitrates: 11.41,            Split_counts: 123\n",
      "1323072\n",
      "10\n"
     ]
    }
   ],
   "source": [
    "config = Config()\n",
    "\n",
    "# configuration\n",
    "config.nRefFrames = 1\n",
    "config.VBSEnable = True\n",
    "config.FMEEnable = False\n",
    "config.FastME = False\n",
    "config.QP = 4\n",
    "\n",
    "# initialization\n",
    "encoder = Encoder()\n",
    "psnr, _, time_spent, _ = encoder.encode('Videos/foreman_420p.yuv')\n",
    "decoder = Decoder(config)\n",
    "frame_visualize_data = decoder.decode()\n",
    "print(len(frame_visualize_data))\n",
    "\n",
    "# P-I frame visualization\n",
    "image_path = \"Assignment/decoder_ws/png_sequence/reconstructed_frame\"+str(4)+\".png\"\n",
    "save_path = \"Assignment/P_I_frame_visualization/Section3-Case3/frame\"+str(4)+\".png\"\n",
    "P_I_frame_visualization(image_path, frame_visualize_data[4][1], save_path)\n",
    "\n",
    "# Reference frame visualization\n",
    "save_path = \"Assignment/reference_frame_visualization/Section3-Case3/frame\"+str(4)+\".png\"\n",
    "reference_frame_visualization(image_path, frame_visualize_data[4][0], save_path)\n",
    "\n",
    "# Motion vector visualization\n",
    "save_path = \"Assignment/motion_vector_visualization/Section3-Case3/frame\"+str(4)+\".png\"\n",
    "motion_vector_visualization(image_path, frame_visualize_data[4][2], save_path, config.FMEEnable)\n",
    "\n",
    "# P-I frame visualization\n",
    "image_path = \"Assignment/decoder_ws/png_sequence/reconstructed_frame\"+str(0)+\".png\"\n",
    "save_path = \"Assignment/P_I_frame_visualization/Section3-Case3/frame\"+str(0)+\".png\"\n",
    "P_I_frame_visualization(image_path, frame_visualize_data[0][1], save_path)\n",
    "\n",
    "# Reference frame visualization\n",
    "save_path = \"Assignment/reference_frame_visualization/Section3-Case3/frame\"+str(0)+\".png\"\n",
    "reference_frame_visualization(image_path, frame_visualize_data[0][0], save_path)\n",
    "\n",
    "# Motion vector visualization\n",
    "save_path = \"Assignment/motion_vector_visualization/Section3-Case3/frame\"+str(0)+\".png\"\n",
    "motion_vector_visualization(image_path, frame_visualize_data[0][2], save_path, config.FMEEnable)"
   ]
  },
  {
   "cell_type": "markdown",
   "metadata": {},
   "source": [
    "### Case 4: \n",
    "##### Multiple Reference Frames = 1\n",
    "##### Variable Block Size = True\n",
    "##### Fractional Motion Estimation = False\n",
    "##### Fast Motion Estimation = False\n",
    "##### QP = 5"
   ]
  },
  {
   "cell_type": "code",
   "execution_count": 31,
   "metadata": {},
   "outputs": [
    {
     "name": "stdout",
     "output_type": "stream",
     "text": [
      "Frame0:            Type: I,            PSNR: 35.04,            SSIM: 0.92,            MAE: 3.89,            Per_Frame_Time: 0.65,            Bitrates: 13.58,            Split_counts: 265\n",
      "Frame1:            Type: P,            PSNR: 34.54,            SSIM: 0.91,            MAE: 2.09,            Per_Frame_Time: 1.38,            Bitrates: 6.66,            Split_counts: 134\n",
      "Frame2:            Type: P,            PSNR: 34.3,            SSIM: 0.9,            MAE: 2.45,            Per_Frame_Time: 1.37,            Bitrates: 6.86,            Split_counts: 120\n",
      "Frame3:            Type: P,            PSNR: 34.07,            SSIM: 0.9,            MAE: 2.71,            Per_Frame_Time: 1.36,            Bitrates: 5.6,            Split_counts: 90\n",
      "Frame4:            Type: P,            PSNR: 33.92,            SSIM: 0.89,            MAE: 2.64,            Per_Frame_Time: 1.37,            Bitrates: 6.49,            Split_counts: 101\n",
      "Frame5:            Type: P,            PSNR: 33.72,            SSIM: 0.89,            MAE: 2.49,            Per_Frame_Time: 1.37,            Bitrates: 6.58,            Split_counts: 106\n",
      "Frame6:            Type: P,            PSNR: 33.6,            SSIM: 0.89,            MAE: 2.81,            Per_Frame_Time: 1.36,            Bitrates: 4.57,            Split_counts: 72\n",
      "Frame7:            Type: P,            PSNR: 33.52,            SSIM: 0.88,            MAE: 2.83,            Per_Frame_Time: 1.37,            Bitrates: 6.36,            Split_counts: 77\n",
      "Frame8:            Type: I,            PSNR: 35.02,            SSIM: 0.92,            MAE: 3.95,            Per_Frame_Time: 0.63,            Bitrates: 13.61,            Split_counts: 255\n",
      "Frame9:            Type: P,            PSNR: 34.57,            SSIM: 0.91,            MAE: 2.01,            Per_Frame_Time: 1.36,            Bitrates: 5.97,            Split_counts: 127\n",
      "757224\n",
      "10\n"
     ]
    }
   ],
   "source": [
    "config = Config()\n",
    "\n",
    "# configuration\n",
    "config.nRefFrames = 1\n",
    "config.VBSEnable = True\n",
    "config.FMEEnable = False\n",
    "config.FastME = False\n",
    "config.QP = 5\n",
    "\n",
    "# initialization\n",
    "encoder = Encoder()\n",
    "psnr, _, time_spent, _ = encoder.encode('Videos/foreman_420p.yuv')\n",
    "decoder = Decoder(config)\n",
    "frame_visualize_data = decoder.decode()\n",
    "print(len(frame_visualize_data))\n",
    "\n",
    "# P-I frame visualization\n",
    "image_path = \"Assignment/decoder_ws/png_sequence/reconstructed_frame\"+str(4)+\".png\"\n",
    "save_path = \"Assignment/P_I_frame_visualization/Section3-Case4/frame\"+str(4)+\".png\"\n",
    "P_I_frame_visualization(image_path, frame_visualize_data[4][1], save_path)\n",
    "\n",
    "# Reference frame visualization\n",
    "save_path = \"Assignment/reference_frame_visualization/Section3-Case4/frame\"+str(4)+\".png\"\n",
    "reference_frame_visualization(image_path, frame_visualize_data[4][0], save_path)\n",
    "\n",
    "# Motion vector visualization\n",
    "save_path = \"Assignment/motion_vector_visualization/Section3-Case4/frame\"+str(4)+\".png\"\n",
    "motion_vector_visualization(image_path, frame_visualize_data[4][2], save_path, config.FMEEnable)\n",
    "\n",
    "# P-I frame visualization\n",
    "image_path = \"Assignment/decoder_ws/png_sequence/reconstructed_frame\"+str(0)+\".png\"\n",
    "save_path = \"Assignment/P_I_frame_visualization/Section3-Case4/frame\"+str(0)+\".png\"\n",
    "P_I_frame_visualization(image_path, frame_visualize_data[0][1], save_path)\n",
    "\n",
    "# Reference frame visualization\n",
    "save_path = \"Assignment/reference_frame_visualization/Section3-Case4/frame\"+str(0)+\".png\"\n",
    "reference_frame_visualization(image_path, frame_visualize_data[0][0], save_path)\n",
    "\n",
    "# Motion vector visualization\n",
    "save_path = \"Assignment/motion_vector_visualization/Section3-Case4/frame\"+str(0)+\".png\"\n",
    "motion_vector_visualization(image_path, frame_visualize_data[0][2], save_path, config.FMEEnable)"
   ]
  },
  {
   "cell_type": "markdown",
   "metadata": {},
   "source": [
    "# Section 4"
   ]
  },
  {
   "cell_type": "markdown",
   "metadata": {},
   "source": [
    "### Case: \n",
    "##### Multiple Reference Frames = 4\n",
    "##### Variable Block Size = True\n",
    "##### Fractional Motion Estimation = True\n",
    "##### Fast Motion Estimation = True\n",
    "##### QP = 4"
   ]
  },
  {
   "cell_type": "code",
   "execution_count": 32,
   "metadata": {},
   "outputs": [
    {
     "name": "stdout",
     "output_type": "stream",
     "text": [
      "Frame0:            Type: I,            PSNR: 38.27,            SSIM: 0.95,            MAE: 3.41,            Per_Frame_Time: 0.68,            Bitrates: 21.6,            Split_counts: 282\n",
      "Frame1:            Type: P,            PSNR: 37.83,            SSIM: 0.95,            MAE: 1.92,            Per_Frame_Time: 0.95,            Bitrates: 11.61,            Split_counts: 134\n",
      "Frame2:            Type: P,            PSNR: 37.77,            SSIM: 0.95,            MAE: 2.02,            Per_Frame_Time: 1.27,            Bitrates: 11.7,            Split_counts: 136\n",
      "Frame3:            Type: P,            PSNR: 37.74,            SSIM: 0.95,            MAE: 2.22,            Per_Frame_Time: 1.57,            Bitrates: 10.71,            Split_counts: 113\n",
      "Frame4:            Type: P,            PSNR: 37.77,            SSIM: 0.95,            MAE: 1.98,            Per_Frame_Time: 1.87,            Bitrates: 11.62,            Split_counts: 119\n",
      "Frame5:            Type: P,            PSNR: 37.84,            SSIM: 0.95,            MAE: 1.84,            Per_Frame_Time: 1.85,            Bitrates: 11.99,            Split_counts: 132\n",
      "Frame6:            Type: P,            PSNR: 37.83,            SSIM: 0.95,            MAE: 1.95,            Per_Frame_Time: 1.86,            Bitrates: 9.75,            Split_counts: 102\n",
      "Frame7:            Type: P,            PSNR: 37.78,            SSIM: 0.95,            MAE: 1.83,            Per_Frame_Time: 1.85,            Bitrates: 10.34,            Split_counts: 103\n",
      "Frame8:            Type: I,            PSNR: 38.41,            SSIM: 0.95,            MAE: 3.46,            Per_Frame_Time: 0.69,            Bitrates: 22.03,            Split_counts: 283\n",
      "Frame9:            Type: P,            PSNR: 37.66,            SSIM: 0.95,            MAE: 1.78,            Per_Frame_Time: 0.95,            Bitrates: 10.9,            Split_counts: 116\n",
      "1223992\n",
      "10\n"
     ]
    }
   ],
   "source": [
    "config = Config()\n",
    "\n",
    "# configuration\n",
    "config.nRefFrames = 4\n",
    "config.VBSEnable = True\n",
    "config.FMEEnable = True\n",
    "config.FastME = True\n",
    "config.QP = 4\n",
    "\n",
    "# initialization\n",
    "encoder = Encoder()\n",
    "psnr, _, time_spent, _ = encoder.encode('Videos/foreman_420p.yuv')\n",
    "decoder = Decoder(config)\n",
    "frame_visualize_data = decoder.decode()\n",
    "print(len(frame_visualize_data))\n",
    "\n",
    "for i in range(1, 5):\n",
    "    # Motion vector visualization\n",
    "    image_path = \"Assignment/decoder_ws/png_sequence/reconstructed_frame\"+str(i)+\".png\"\n",
    "    save_path = \"Assignment/motion_vector_visualization/Section4-Case/frame\"+str(i)+\".png\"\n",
    "    motion_vector_visualization(image_path, frame_visualize_data[i][2], save_path, config.FMEEnable)"
   ]
  }
 ],
 "metadata": {
  "kernelspec": {
   "display_name": "base",
   "language": "python",
   "name": "python3"
  },
  "language_info": {
   "codemirror_mode": {
    "name": "ipython",
    "version": 3
   },
   "file_extension": ".py",
   "mimetype": "text/x-python",
   "name": "python",
   "nbconvert_exporter": "python",
   "pygments_lexer": "ipython3",
   "version": "3.9.6"
  }
 },
 "nbformat": 4,
 "nbformat_minor": 2
}
